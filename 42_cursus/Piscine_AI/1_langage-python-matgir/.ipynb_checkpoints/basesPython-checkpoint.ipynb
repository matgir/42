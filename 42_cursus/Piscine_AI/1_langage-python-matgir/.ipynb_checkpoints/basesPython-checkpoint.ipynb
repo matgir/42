{
 "cells": [
  {
   "cell_type": "markdown",
   "id": "815203d4",
   "metadata": {},
   "source": [
    "![Python3](./image/python.jpg)\n",
    "\n",
    "<br>\n",
    "\n",
    "# Python Basics\n",
    "\n",
    "<br>\n",
    "\n",
    "Welcome to the first topic of the week.\\\n",
    "You will learn the basics of the Python language, we will use it throughout the week to introduce you to the vast field of Artificial Intelligence.\n",
    "\n",
    "Python is an interpreted, multi-paradigm language.\\\n",
    "It is used in the scientific field, because of its many optimized libraries for numerical computation and its simple syntax,\\\n",
    "which makes it a high-level language.\n",
    "\n",
    "During this first preliminary activity, you will learn the basics of Python.\\\n",
    "Python is vast and we will only look at the most important notions of the language.\\\n",
    "Therefore, it is more than likely that during this week, you will observe a notion that is not present in this activity.\\\n",
    "In which case you will have to look for the solution yourself.\n",
    "\n",
    "[Documentation Python](https://docs.python.org/3/)"
   ]
  },
  {
   "cell_type": "markdown",
   "id": "f78e3f4d",
   "metadata": {},
   "source": [
    "## Control structures and display\n",
    "\n",
    "Python is an untyped language, meaning that you don't have to define your variable as an ```int```, or a ```float``` for example.\n",
    "\n",
    "As a programming language, Python includes its control structures.\\\n",
    "You've seen them before, especially in C and perhaps in other programming languages.\n",
    "\n",
    "First of all, the ```for``` and ```while``` loops for repeating statements.\\\n",
    "The ```if```, ``elif`` and ```else``` conditions for creating branches.\\\n",
    "The ```print()``` function to display informations."
   ]
  },
  {
   "cell_type": "markdown",
   "id": "d92161f6",
   "metadata": {},
   "source": [
    "**Exercice :**\\\n",
    "display the content of ```value``` ```n``` times."
   ]
  },
  {
   "cell_type": "code",
   "execution_count": 27,
   "id": "8383187b",
   "metadata": {},
   "outputs": [
    {
     "name": "stdout",
     "output_type": "stream",
     "text": [
      "bonjour\n",
      "bonjour\n",
      "bonjour\n",
      "bonjour\n",
      "bonjour\n"
     ]
    }
   ],
   "source": [
    "value = \"bonjour\"\n",
    "n = 5\n",
    "\n",
    "# code here\n",
    "for i in range(n):\n",
    "    print(value)"
   ]
  },
  {
   "cell_type": "markdown",
   "id": "d137e322",
   "metadata": {},
   "source": [
    "**Expected Result :**\\\n",
    "bonjour\\\n",
    "bonjour\\\n",
    "bonjour\\\n",
    "bonjour\\\n",
    "bonjour"
   ]
  },
  {
   "cell_type": "markdown",
   "id": "fe186dd2",
   "metadata": {},
   "source": [
    "**Exercice :**\\\n",
    "Your first task is to make a \"fizzbuzz\" program:\n",
    "\n",
    "Display the numbers **from 1 to nb_iterations** with a **for** loop.\\\n",
    "If a number is a **multiples of 3**, write **\"Fizz\" instead of the number.**\\\n",
    "If a number is a **multiples of 5**, write **\"Buzz\" instead of the number.**\\\n",
    "If a number is a **multiple of both 3 and 5**, write **\"FizzBuzz\" instead of the number.**\n",
    "\n",
    "You must follow the **diagram** :\n",
    "\n",
    "![schema](./image/diagramme.png)"
   ]
  },
  {
   "cell_type": "code",
   "execution_count": 12,
   "id": "ae21b55c",
   "metadata": {},
   "outputs": [
    {
     "name": "stdout",
     "output_type": "stream",
     "text": [
      "1\n",
      "2\n",
      "Fizz\n",
      "4\n",
      "Buzz\n",
      "Fizz\n",
      "7\n",
      "8\n",
      "Fizz\n",
      "Buzz\n",
      "11\n",
      "Fizz\n",
      "13\n",
      "14\n",
      "FizzBuzz\n"
     ]
    }
   ],
   "source": [
    "nb_iterations = 16\n",
    "\n",
    "# code here\n",
    "i = 1\n",
    "while i < 16:\n",
    "    if (i % 3 == 0 and i % 5 == 0):\n",
    "        print('FizzBuzz')\n",
    "    elif (i % 3 == 0):\n",
    "        print('Fizz')\n",
    "    elif (i % 5 == 0):\n",
    "        print('Buzz')\n",
    "    else:\n",
    "        print(i)\n",
    "    i += 1"
   ]
  },
  {
   "cell_type": "markdown",
   "id": "efc78afc",
   "metadata": {},
   "source": [
    "**Expected result :**\\\n",
    "1\\\n",
    "2\\\n",
    "Fizz\\\n",
    "4\\\n",
    "Buzz\\\n",
    "...\\\n",
    "11\\\n",
    "Fizz\\\n",
    "13\\\n",
    "14\\\n",
    "FizzBuzz"
   ]
  },
  {
   "cell_type": "markdown",
   "id": "461163c8",
   "metadata": {},
   "source": [
    "## Functions\n",
    "\n",
    "In programming, functions are very useful for performing the same operation several times within a program.\\\n",
    "They also make the code more readable and clearer by breaking it up into logical blocks.\n",
    "\n",
    "A function is a block of code which only runs when it is called.\\\n",
    "You can pass data, known as parameters, into a function.\\\n",
    "A function can return data as a result.\n",
    "\n",
    "**Example :**\\\n",
    "the function returns the parameter."
   ]
  },
  {
   "cell_type": "code",
   "execution_count": 13,
   "id": "cc6b89de",
   "metadata": {},
   "outputs": [
    {
     "data": {
      "text/plain": [
       "1"
      ]
     },
     "execution_count": 13,
     "metadata": {},
     "output_type": "execute_result"
    }
   ],
   "source": [
    "def example(arg1):\n",
    "    return arg1\n",
    "example(1)"
   ]
  },
  {
   "cell_type": "markdown",
   "id": "814b3b4d",
   "metadata": {},
   "source": [
    "Try to understand the working flow of this function."
   ]
  },
  {
   "cell_type": "code",
   "execution_count": 16,
   "id": "22a5685f",
   "metadata": {},
   "outputs": [
    {
     "name": "stdout",
     "output_type": "stream",
     "text": [
      "Parameter1 : first \n",
      "Parameter2 : second\n",
      "Parameter1 : second \n",
      "Parameter2 : first\n",
      "Parameter1 : first \n",
      "Parameter2 : second\n",
      "Parameter1 : second \n",
      "Parameter2 : first\n"
     ]
    }
   ],
   "source": [
    "parameter1 = \"first\"\n",
    "parameter2 = \"second\"\n",
    "\n",
    "def my_function(parameter1, parameter2):\n",
    "    print(f'Parameter1 : {parameter1} \\nParameter2 : {parameter2}')\n",
    "    return parameter2, parameter1\n",
    "\n",
    "parameter1, parameter2 = my_function(parameter1, parameter2)\n",
    "parameter1, parameter2 = my_function(parameter1, parameter2)\n",
    "parameter1, parameter2 = my_function(parameter1, parameter2)\n",
    "parameter1, parameter2 = my_function(parameter1, parameter2)"
   ]
  },
  {
   "cell_type": "markdown",
   "id": "7c009e8a",
   "metadata": {},
   "source": [
    "If you managed to understand the above function, then now that you are able to write functions.\n",
    "\n",
    "**Exercice :**\\\n",
    "Program a function named ```SquareIt``` that takes ```x``` as a parameter. \\\n",
    "The function should return x²."
   ]
  },
  {
   "cell_type": "code",
   "execution_count": 17,
   "id": "1085ef83",
   "metadata": {},
   "outputs": [
    {
     "data": {
      "text/plain": [
       "16"
      ]
     },
     "execution_count": 17,
     "metadata": {},
     "output_type": "execute_result"
    }
   ],
   "source": [
    "# code here\n",
    "\n",
    "def  SquareIt(x):\n",
    "        return x ** 2\n",
    "\n",
    "SquareIt(4)"
   ]
  },
  {
   "cell_type": "markdown",
   "id": "5f90da8c",
   "metadata": {},
   "source": [
    "**Expected result :** ```16```"
   ]
  },
  {
   "cell_type": "markdown",
   "id": "3e45e682",
   "metadata": {},
   "source": [
    "**Exercice :**\\\n",
    "Make a function named ```printMany``` that takes two parameters: ```value``` and ```nb_iterations```.\\\n",
    "You will check that the second parameter is a ```int```.\\\n",
    "if it is not, display ```\"nb_iterations is not an integer\"``` and return ```None```.\\\n",
    "If it is an integer, display ```value``` ```nb_iterations``` times."
   ]
  },
  {
   "cell_type": "code",
   "execution_count": 29,
   "id": "54621d73",
   "metadata": {},
   "outputs": [
    {
     "name": "stdout",
     "output_type": "stream",
     "text": [
      "nb_iterations is not an integer\n",
      "\n",
      "bonjour\n",
      "bonjour\n",
      "bonjour\n"
     ]
    }
   ],
   "source": [
    "# code here\n",
    "\n",
    "def printMany(value, nb_iterations):\n",
    "    if type(nb_iterations) == int:\n",
    "        for i in range(nb_iterations):\n",
    "            print(\"%s\" %(value))\n",
    "    else:\n",
    "        print('nb_iterations is not an integer')\n",
    "        return None\n",
    "\n",
    "printMany(\"bonjour\", \"quarante-fois\")\n",
    "print(\"\")\n",
    "printMany(\"bonjour\", 3)"
   ]
  },
  {
   "cell_type": "markdown",
   "id": "586671c5",
   "metadata": {},
   "source": [
    "**Expected result :**\\\n",
    "nb_iterations is not an integer\n",
    "\n",
    "bonjour\\\n",
    "bonjour\\\n",
    "bonjour    "
   ]
  },
  {
   "cell_type": "markdown",
   "id": "2320012f",
   "metadata": {},
   "source": [
    "**Exercice :**\\\n",
    "Create a function ```my_concat``` which takes two parameters: ```str1```, ```str2```.\\\n",
    "If the length of ```str2``` is greater than that of ```str1```, stop the function.\\\n",
    "Otherwise replace the end of ```str2``` by ```str1``` and print that."
   ]
  },
  {
   "cell_type": "code",
   "execution_count": 46,
   "id": "8da49e0c",
   "metadata": {},
   "outputs": [
    {
     "name": "stdout",
     "output_type": "stream",
     "text": [
      "bonsoir\n"
     ]
    }
   ],
   "source": [
    "# code here\n",
    "def my_concat(str1, str2):\n",
    "    if len(str2) > len(str1):\n",
    "        return\n",
    "    else:\n",
    "        print(f'{str1[:len(str1) - len(str2)]}{str2}')\n",
    "\n",
    "# must not display anything  \n",
    "my_concat(\"soir\", \"bonjour\")\n",
    "# display bonsoir\n",
    "my_concat(\"bonjour\", \"soir\")"
   ]
  },
  {
   "cell_type": "markdown",
   "id": "76ae75c2",
   "metadata": {},
   "source": [
    "**Expected result :** ```bonsoir```"
   ]
  },
  {
   "cell_type": "markdown",
   "id": "c3452311",
   "metadata": {},
   "source": [
    "## Import\n"
   ]
  },
  {
   "cell_type": "markdown",
   "id": "c58b2891",
   "metadata": {},
   "source": [
    "We will be using python libraries regularly during this week.\\\n",
    "A library is a toolbox in which are stored functions or other Python objects that we can reuse.\n",
    "(Note: In python, libraries are often called 'modules', they're essentially the same things.)\n",
    "\n",
    "**Example :**\\\n",
    "In the following example we will import the Numpy library and give it the alias np.\\\n",
    "Then we use the zeros function of the library which returns a new array of given shape and type, filled with zeros."
   ]
  },
  {
   "cell_type": "code",
   "execution_count": 47,
   "id": "9f067182",
   "metadata": {},
   "outputs": [
    {
     "name": "stdout",
     "output_type": "stream",
     "text": [
      "[[0 0]\n",
      " [0 0]]\n"
     ]
    }
   ],
   "source": [
    "import numpy as np\n",
    "\n",
    "A = np.zeros((2, 2), dtype=int)\n",
    "print(A)"
   ]
  },
  {
   "cell_type": "markdown",
   "id": "8c7185cb",
   "metadata": {},
   "source": [
    "**Exercice :**\\\n",
    "Importing the python math module is performing a square root of x."
   ]
  },
  {
   "cell_type": "code",
   "execution_count": 53,
   "id": "dfa4a99d",
   "metadata": {},
   "outputs": [
    {
     "name": "stdout",
     "output_type": "stream",
     "text": [
      "4.0\n"
     ]
    }
   ],
   "source": [
    "x = 16\n",
    "\n",
    "# code here\n",
    "import math\n",
    "X = math.sqrt(x)\n",
    "print(X)"
   ]
  },
  {
   "cell_type": "markdown",
   "id": "86622630",
   "metadata": {},
   "source": [
    "**Expected result :** ```4.0```"
   ]
  },
  {
   "cell_type": "markdown",
   "id": "7759b4e5",
   "metadata": {},
   "source": [
    "## List\n",
    "\n",
    "List is a **built-in** data structure in Python.\\\n",
    "It can be used to store **any data type** or a mixture of different data types.\\\n",
    "Lists are **mutable** which is one of the reasons why they are so commonly used.\\\n",
    "\n",
    "I invite you to take a look at array slicing with the operator ```:```\\\n",
    "It's up to you to test and understand what the examples below do.\n",
    "\n",
    "[Learn Python List](https://docs.python.org/fr/3/tutorial/datastructures.html)\n",
    "\n",
    "**Example :**\\\n",
    "Here is an example of initialization of a list.\\\n",
    "We also use the append method which allows us to add a value at the end of the list."
   ]
  },
  {
   "cell_type": "code",
   "execution_count": 61,
   "id": "23aee4fe",
   "metadata": {},
   "outputs": [
    {
     "name": "stdout",
     "output_type": "stream",
     "text": [
      "[1, 2, 3, 4]\n",
      "[1, 2, 3, 4, 5]\n",
      "[1, 2]\n",
      "[3, 4, 5]\n",
      "[3]\n",
      "[1, 4]\n"
     ]
    }
   ],
   "source": [
    "my_list = [1, 2, 3, 4]\n",
    "print(my_list)\n",
    "\n",
    "my_list.append(5)\n",
    "print(my_list)\n",
    "\n",
    "print(my_list[:2])\n",
    "\n",
    "print(my_list[2:])\n",
    "\n",
    "print(my_list[2:3])\n",
    "\n",
    "print(my_list[::3])"
   ]
  },
  {
   "cell_type": "markdown",
   "id": "a35eb943",
   "metadata": {},
   "source": [
    "Pretty simple, isn't it ?\n",
    "\n",
    "It's your turn to play !\\\n",
    "\n",
    "**Exercice :**\\\n",
    "write a function that allows you to find the lowest value in a list.\\\n",
    "You **should not** use ```min``` fonction."
   ]
  },
  {
   "cell_type": "code",
   "execution_count": 77,
   "id": "15b7b547",
   "metadata": {},
   "outputs": [
    {
     "name": "stdout",
     "output_type": "stream",
     "text": [
      "-125\n"
     ]
    }
   ],
   "source": [
    "# code here\n",
    "\n",
    "def smallest_num_in_list(list):\n",
    "    i = 1\n",
    "    cmp = list[0]\n",
    "    while(i < len(list)):\n",
    "        if(cmp > list[i]):\n",
    "            cmp = list[i]\n",
    "        i += 1\n",
    "    print(cmp)\n",
    "        \n",
    "\n",
    "smallest_num_in_list([-125, 1, 2, -8, 0, -25])"
   ]
  },
  {
   "cell_type": "markdown",
   "id": "ccaa3c8b",
   "metadata": {},
   "source": [
    "**Expected result :** ```-8```"
   ]
  },
  {
   "cell_type": "markdown",
   "id": "e2aed50c",
   "metadata": {},
   "source": [
    "In data science, it is common to normalize the data between 0 and 1 in order to reduce the gap between the values and to optimize the training of a model. \n",
    "\n",
    "**Exercice :**\\\n",
    "Write a function that normalizes the values of a list between 0 and 1."
   ]
  },
  {
   "cell_type": "code",
   "execution_count": 84,
   "id": "950cea84",
   "metadata": {},
   "outputs": [
    {
     "name": "stdout",
     "output_type": "stream",
     "text": [
      "0.1\n",
      "0.3\n",
      "0.4\n",
      "0.2\n",
      "1.0\n",
      "0.011764705882352941\n",
      "0.03529411764705882\n",
      "0.047058823529411764\n",
      "0.023529411764705882\n",
      "0.11764705882352941\n",
      "0.1411764705882353\n",
      "1.0\n",
      "0.10588235294117647\n",
      "0.9411764705882353\n"
     ]
    }
   ],
   "source": [
    "# code here\n",
    "def normalize_a_list(list):\n",
    "    cmp = list[0]\n",
    "    for i in list:\n",
    "        if(cmp < i):\n",
    "            cmp = i\n",
    "\n",
    "    for n in list:\n",
    "        print(n/cmp)\n",
    "\n",
    "normalize_a_list([1, 3, 4, 2, 10])\n",
    "normalize_a_list([1, 3, 4, 2, 10, 12, 85, 9, 80])"
   ]
  },
  {
   "cell_type": "markdown",
   "id": "a61aed18",
   "metadata": {},
   "source": [
    "**Expected result :**\\\n",
    "0.1\\\n",
    "0.3\\\n",
    "0.4\\\n",
    "0.2\\\n",
    "1.0"
   ]
  },
  {
   "cell_type": "markdown",
   "id": "708d0499",
   "metadata": {},
   "source": [
    "## Tuple & Set\n",
    "\n",
    "Lists, tuples, and sets are 3 important types of objects.\\\n",
    "What they have in common is that they are used as data structures.\\\n",
    "In order to create robust and well-performing products, one must know the data structures of a programming language very well.\n",
    "\n",
    "#### Tuple\n",
    "\n",
    "Tuple is a collection of values separated by comma and enclosed in parenthesis.\\\n",
    "Unlike lists, tuples are **immutable**.\\\n",
    "The immutability can be considered as the identifying feature of tuples.\n",
    "\n",
    "**Example :**"
   ]
  },
  {
   "cell_type": "code",
   "execution_count": 1,
   "id": "00e29884",
   "metadata": {},
   "outputs": [
    {
     "data": {
      "text/plain": [
       "('apple', 'banana', 'cherry')"
      ]
     },
     "execution_count": 1,
     "metadata": {},
     "output_type": "execute_result"
    }
   ],
   "source": [
    "mytuple = (\"apple\", \"banana\", \"cherry\")\n",
    "mytuple"
   ]
  },
  {
   "cell_type": "markdown",
   "id": "3993ce94",
   "metadata": {},
   "source": [
    "#### Set\n",
    "\n",
    "Set is an **unordered** collection of distinct immutable objects.\\\n",
    "A set contains **unique elements.**\\\n",
    "Although sets are **mutable**, the elements of sets must be immutable.\\\n",
    "There is no order associated with the elements of a set.\\\n",
    "Thus, it does not support indexing or slicing like we do with lists.\n",
    "\n",
    "**Example :**"
   ]
  },
  {
   "cell_type": "code",
   "execution_count": 2,
   "id": "2c7e95fa",
   "metadata": {},
   "outputs": [
    {
     "data": {
      "text/plain": [
       "{'apple', 'banana', 'cherry'}"
      ]
     },
     "execution_count": 2,
     "metadata": {},
     "output_type": "execute_result"
    }
   ],
   "source": [
    "myset = {\"apple\", \"banana\", \"cherry\"}\n",
    "myset"
   ]
  },
  {
   "cell_type": "markdown",
   "id": "b347b554",
   "metadata": {},
   "source": [
    "![listvstuplevsset](./image/listvstuplevsset.png)"
   ]
  },
  {
   "cell_type": "markdown",
   "id": "42d73044",
   "metadata": {},
   "source": [
    "**Exercice :**\\\n",
    "Create a list of tuples, where each element n is a tuple with the value n of the list and n of the list2"
   ]
  },
  {
   "cell_type": "code",
   "execution_count": 38,
   "id": "13bf99bb",
   "metadata": {},
   "outputs": [
    {
     "data": {
      "text/plain": [
       "[(1, 5), (2, 6), (3, 7), (4, 8)]"
      ]
     },
     "execution_count": 38,
     "metadata": {},
     "output_type": "execute_result"
    }
   ],
   "source": [
    "list1 = [1, 2, 3, 4]\n",
    "list2 = [5, 6, 7, 8]\n",
    "\n",
    "# code here\n",
    "def my_list_of_tuples(list1, list2):\n",
    "    if(len(list1) - len(list2) > 0):\n",
    "        i = len(list1)\n",
    "    elif(len(list1) - len(list2) < 0):\n",
    "        i = len(list2)\n",
    "    else:\n",
    "        i = len(list1)\n",
    "    flist = [None] * i\n",
    "    for l in range(i):\n",
    "        flist[l] = (list1[l], list2[l])\n",
    "    return(flist) \n",
    "my_list_of_tuples(list1, list2)"
   ]
  },
  {
   "cell_type": "markdown",
   "id": "c0a5ff37",
   "metadata": {},
   "source": [
    "**Result expected :** ```[(1,5), (2,6), (3,7), (4,8)]```"
   ]
  },
  {
   "cell_type": "markdown",
   "id": "24e5f484",
   "metadata": {},
   "source": [
    "**Exercice :**\\\n",
    "Display all members of set1 that do not appear in set2"
   ]
  },
  {
   "cell_type": "code",
   "execution_count": 2,
   "id": "456d79aa",
   "metadata": {},
   "outputs": [
    {
     "data": {
      "text/plain": [
       "{'lemon', 'tomato'}"
      ]
     },
     "execution_count": 2,
     "metadata": {},
     "output_type": "execute_result"
    }
   ],
   "source": [
    "myset1 = {\"apple\", \"banana\", \"lemon\", \"tomato\", \"cherry\"}\n",
    "myset2 = {\"apple\", \"banana\", \"cherry\"}\n",
    "\n",
    "# code here\n",
    "def set_difference(myset1, myset2):\n",
    "    return(myset1 - myset2)\n",
    "\n",
    "set_difference(myset1, myset2)"
   ]
  },
  {
   "cell_type": "markdown",
   "id": "cfa79ab3",
   "metadata": {},
   "source": [
    "**Result expected :** ```{'lemon', 'tomato'}```"
   ]
  },
  {
   "cell_type": "markdown",
   "id": "5607baeb",
   "metadata": {},
   "source": [
    "# Dictionaries"
   ]
  },
  {
   "cell_type": "markdown",
   "id": "dd28cee0",
   "metadata": {},
   "source": [
    "Dictionaries are used to store data values in **key:value** pairs.\\\n",
    "A dictionary is a collection which is ordered, changeable and does not allow duplicates.\n",
    "(Note: Dictionaries are often called 'map' or 'hashmap' in many other languages.)\n",
    "\n",
    "**Example :**"
   ]
  },
  {
   "cell_type": "code",
   "execution_count": 3,
   "id": "27bdb41e",
   "metadata": {},
   "outputs": [
    {
     "data": {
      "text/plain": [
       "{'Organization': 'PoC', 'Field': 'AI', 'number': 1}"
      ]
     },
     "execution_count": 3,
     "metadata": {},
     "output_type": "execute_result"
    }
   ],
   "source": [
    "thisdict = {\n",
    "  \"Organization\": \"PoC\",\n",
    "  \"Field\": \"AI\",\n",
    "  \"number\": 1\n",
    "}\n",
    "thisdict"
   ]
  },
  {
   "cell_type": "markdown",
   "id": "1954c9b4",
   "metadata": {},
   "source": [
    "**Exercice**:\\\n",
    "Write a function named: ```count_occurences``` that takes as parameter a list named ```my_list```.\\\n",
    "Create a dictionary that counts the number of occurrences of each element.\\\n",
    "return this dictionary."
   ]
  },
  {
   "cell_type": "code",
   "execution_count": 25,
   "id": "6d7866e8",
   "metadata": {},
   "outputs": [
    {
     "data": {
      "text/plain": [
       "{'Robot': 3, 'Tool': 1, 'Computer': 1, 'Keyboard': 1, 'AI': 4}"
      ]
     },
     "execution_count": 25,
     "metadata": {},
     "output_type": "execute_result"
    }
   ],
   "source": [
    "# code here\n",
    "\n",
    "def count_occurences(list):\n",
    "    tel = {}\n",
    "    for i in range(len(list)):\n",
    "        tel[list[i]] = list.count(list[i])\n",
    "    return tel\n",
    "        \n",
    "count_occurences(['Robot', 'Tool', 'Computer', 'Robot', 'Keyboard', 'AI', 'Robot', 'AI', 'AI', 'AI'])"
   ]
  },
  {
   "cell_type": "markdown",
   "id": "6586f2a5",
   "metadata": {},
   "source": [
    "**Expected result :** ```{'Robot': 3, 'Tool': 1, 'Computer': 1, 'Keyboard': 1, 'AI': 4}```"
   ]
  },
  {
   "cell_type": "markdown",
   "id": "277c7f8b",
   "metadata": {},
   "source": [
    "**Exercice:**\\\n",
    "Write a Python function to sort a dictionary by keys.\\\n",
    "Then write a Python function to sort a dictionary by values."
   ]
  },
  {
   "cell_type": "code",
   "execution_count": 67,
   "id": "6ff26138",
   "metadata": {},
   "outputs": [
    {
     "name": "stdout",
     "output_type": "stream",
     "text": [
      "A 3\n",
      "B 4\n",
      "C 15\n",
      "D 7\n",
      "\n",
      "A 3\n",
      "B 4\n",
      "D 7\n",
      "C 15\n"
     ]
    }
   ],
   "source": [
    "my_dict = {'A':3,\n",
    "          'D':7,\n",
    "          'B':4,\n",
    "          'C':15\n",
    "}\n",
    "\n",
    "def sort_by_key(my_dict):\n",
    "    # code here\n",
    "    for k, v in sorted(my_dict.items()):\n",
    "        print(k, v)\n",
    "    return\n",
    "def sort_by_value(my_dict):\n",
    "    # code here\n",
    "    for k, v in sorted(my_dict.items(), key=lambda t: t[1]):\n",
    "        print(k, v)\n",
    "\n",
    "sort_by_key(my_dict)\n",
    "print()\n",
    "sort_by_value(my_dict)"
   ]
  },
  {
   "cell_type": "markdown",
   "id": "f2bf1bc9",
   "metadata": {},
   "source": [
    "**Expected result :**\\\n",
    "A 3\\\n",
    "B 4\\\n",
    "C 15\\\n",
    "D 7\n",
    "\n",
    "A 3\\\n",
    "B 4\\\n",
    "D 7\\\n",
    "C 15"
   ]
  },
  {
   "cell_type": "markdown",
   "id": "7072094e",
   "metadata": {},
   "source": [
    "## Try... Except and Raise\n",
    "\n",
    "Even if a statement or expression is syntactically correct,\n",
    "it may cause an error when an attempt is made to execute it.\\\n",
    "Errors detected during execution are called exceptions and are not unconditionally fatal: you will soon learn how to handle them in Python programs.\n",
    "\n",
    "**Example :**\\\n",
    "The code below produces an error.\\\n",
    "Here are the errors that can occur in Python : [errors Python](https://www.tutorialsteacher.com/python/error-types-in-python)"
   ]
  },
  {
   "cell_type": "code",
   "execution_count": 68,
   "id": "1b8ae889",
   "metadata": {},
   "outputs": [
    {
     "ename": "TypeError",
     "evalue": "int() argument must be a string, a bytes-like object or a number, not 'list'",
     "output_type": "error",
     "traceback": [
      "\u001b[0;31m---------------------------------------------------------------------------\u001b[0m",
      "\u001b[0;31mTypeError\u001b[0m                                 Traceback (most recent call last)",
      "\u001b[0;32m<ipython-input-68-9388375d2faa>\u001b[0m in \u001b[0;36m<module>\u001b[0;34m\u001b[0m\n\u001b[1;32m      1\u001b[0m \u001b[0ma\u001b[0m \u001b[0;34m=\u001b[0m \u001b[0;34m[\u001b[0m\u001b[0;34m\"a\"\u001b[0m\u001b[0;34m,\u001b[0m \u001b[0;34m\"b\"\u001b[0m\u001b[0;34m]\u001b[0m\u001b[0;34m\u001b[0m\u001b[0;34m\u001b[0m\u001b[0m\n\u001b[0;32m----> 2\u001b[0;31m \u001b[0mint\u001b[0m\u001b[0;34m(\u001b[0m\u001b[0ma\u001b[0m\u001b[0;34m)\u001b[0m\u001b[0;34m\u001b[0m\u001b[0;34m\u001b[0m\u001b[0m\n\u001b[0m",
      "\u001b[0;31mTypeError\u001b[0m: int() argument must be a string, a bytes-like object or a number, not 'list'"
     ]
    }
   ],
   "source": [
    "a = [\"a\", \"b\"]\n",
    "int(a)"
   ]
  },
  {
   "cell_type": "markdown",
   "id": "13dfb1c6",
   "metadata": {},
   "source": [
    "To be able to manage the errors, we use ```try``` and ```except``` keywords.\\\n",
    "At first, the block try is executed, if an error is encountered the block except is executed.\\\n",
    "If no error is encountered, then the except block is ignored.\\\n",
    "It is possible to catch all types of errors with except, it is only needed to not specify any type of error.\\\n",
    "However, it is advisable to specify the potential errors types according to the Python documentation."
   ]
  },
  {
   "cell_type": "code",
   "execution_count": 69,
   "id": "fc955daa",
   "metadata": {},
   "outputs": [
    {
     "name": "stdout",
     "output_type": "stream",
     "text": [
      "Error detected : TypeError\n"
     ]
    }
   ],
   "source": [
    "a = [\"a\", \"b\"]\n",
    "try:\n",
    "    int(a)\n",
    "except TypeError as Err:\n",
    "    print(\"Error detected : TypeError\")"
   ]
  },
  {
   "cell_type": "markdown",
   "id": "f87fa24a",
   "metadata": {},
   "source": [
    "The ```raise``` keyword is used to raise an exception.\\\n",
    "You can define what kind of error to raise, and the text to print to the user.\n",
    "\n",
    "**Example :**"
   ]
  },
  {
   "cell_type": "code",
   "execution_count": 70,
   "id": "cf3012ef",
   "metadata": {},
   "outputs": [
    {
     "ename": "Exception",
     "evalue": "Sorry, no numbers below zero",
     "output_type": "error",
     "traceback": [
      "\u001b[0;31m---------------------------------------------------------------------------\u001b[0m",
      "\u001b[0;31mException\u001b[0m                                 Traceback (most recent call last)",
      "\u001b[0;32m<ipython-input-70-2edc57024fbc>\u001b[0m in \u001b[0;36m<module>\u001b[0;34m\u001b[0m\n\u001b[1;32m      2\u001b[0m \u001b[0;34m\u001b[0m\u001b[0m\n\u001b[1;32m      3\u001b[0m \u001b[0;32mif\u001b[0m \u001b[0mx\u001b[0m \u001b[0;34m<\u001b[0m \u001b[0;36m0\u001b[0m\u001b[0;34m:\u001b[0m\u001b[0;34m\u001b[0m\u001b[0;34m\u001b[0m\u001b[0m\n\u001b[0;32m----> 4\u001b[0;31m   \u001b[0;32mraise\u001b[0m \u001b[0mException\u001b[0m\u001b[0;34m(\u001b[0m\u001b[0;34m\"Sorry, no numbers below zero\"\u001b[0m\u001b[0;34m)\u001b[0m\u001b[0;34m\u001b[0m\u001b[0;34m\u001b[0m\u001b[0m\n\u001b[0m",
      "\u001b[0;31mException\u001b[0m: Sorry, no numbers below zero"
     ]
    }
   ],
   "source": [
    "x = -1\n",
    "\n",
    "if x < 0:\n",
    "  raise Exception(\"Sorry, no numbers below zero\")"
   ]
  },
  {
   "cell_type": "markdown",
   "id": "2173b49e",
   "metadata": {},
   "source": [
    "**Exercice :**\\\n",
    "Write a function that produces an error, so that it executes anyway without removing the keyword ```raise```."
   ]
  },
  {
   "cell_type": "code",
   "execution_count": 82,
   "id": "d62d9ef7",
   "metadata": {},
   "outputs": [
    {
     "name": "stdout",
     "output_type": "stream",
     "text": [
      "bonjour\n"
     ]
    }
   ],
   "source": [
    "# code here\n",
    "\n",
    "def my_error(value):\n",
    "    try:\n",
    "        raise(KeyboardInterrupt)\n",
    "    except:\n",
    "        print(value)\n",
    "\n",
    "my_error(\"bonjour\")"
   ]
  },
  {
   "cell_type": "markdown",
   "id": "7b707d80",
   "metadata": {},
   "source": [
    "**Expected result :** ```bonjour```"
   ]
  },
  {
   "cell_type": "markdown",
   "id": "7c1bb240",
   "metadata": {},
   "source": [
    "## With keyword\n",
    "\n",
    "To read a file we usually use the open function followed by the read method.\\\n",
    "It is important to remember to close the file you are opening.\n",
    "\n",
    "**Example :**"
   ]
  },
  {
   "cell_type": "code",
   "execution_count": 83,
   "id": "ec9c33b0",
   "metadata": {},
   "outputs": [
    {
     "name": "stdout",
     "output_type": "stream",
     "text": [
      "This is clearly not the best way to read files :d\n"
     ]
    }
   ],
   "source": [
    "fd = open(\"./data/example.txt\", \"r\")\n",
    "try:\n",
    "    content = fd.read()\n",
    "    print(content)\n",
    "finally:\n",
    "    fd.close()"
   ]
  },
  {
   "cell_type": "markdown",
   "id": "d464f3e1",
   "metadata": {},
   "source": [
    "In python the with keyword is used when working with unmanaged resources (like file streams).\\\n",
    "It is similar to the use statement in VB.NET and C#.\\\n",
    "It allows you to ensure that a resource is \"cleaned up\" when the code that uses it finishes running, even if exceptions are thrown. \n",
    "\n",
    "**Exercice :**\\\n",
    "read the file ```./data/exercice.txt``` by managing it using the keyword ```with```"
   ]
  },
  {
   "cell_type": "code",
   "execution_count": 92,
   "id": "b440b6cf",
   "metadata": {},
   "outputs": [
    {
     "name": "stdout",
     "output_type": "stream",
     "text": [
      "don't bother closing the file the with keyword does it automatically when you leave its scope.\n",
      "bonsoir\n",
      "je suis la\n",
      "\n",
      "hello"
     ]
    }
   ],
   "source": [
    "# code here\n",
    "with open(\"./data/exercice.txt\") as f:\n",
    "    for line in f:\n",
    "        print(line, end=\"\")"
   ]
  },
  {
   "cell_type": "markdown",
   "id": "87c9d3d5",
   "metadata": {},
   "source": [
    "**Result expected :** ```don't bother closing the file the with keyword does it automatically when you leave its scope.```"
   ]
  },
  {
   "cell_type": "markdown",
   "id": "df806026",
   "metadata": {},
   "source": [
    "Now I hope you will use it whenever you can."
   ]
  },
  {
   "cell_type": "markdown",
   "id": "b6a19bfd",
   "metadata": {},
   "source": [
    "## Classes and Heritages\n",
    "\n",
    "Classes is what we call **Object Oriented Programming** (OOP) and is essential in a vast number of languages.\n",
    "To vulgarize, classes are sort of mold used to create **object**. Once you've the molds, you can create as many objects of the same type as you want. This is used in every import you do, any functions from libraries are **methods** from classes.\n",
    "Their names are often written with a uppercase at the beginning. \n",
    "\n",
    "If you want to get deeper in this notion,\\\n",
    "I highly recommend you to search on Internet. It's a highly well explained subject.\\\n",
    "[Python classes doc](https://docs.python.org/3/tutorial/classes.html)\n",
    "\n",
    "**Example :**\\\n",
    "Here is an example of a class, to help understand here are some remarks on the code :\n",
    "\n",
    "- variables that start with __ are called private\n",
    "- the method \\_\\_init__ is the constructor, it is called at the instanciation of the object.\n",
    "- the method \\_\\_str__ is a method that describes the object.\n"
   ]
  },
  {
   "cell_type": "code",
   "execution_count": 106,
   "id": "df6387d3",
   "metadata": {},
   "outputs": [
    {
     "name": "stdout",
     "output_type": "stream",
     "text": [
      "Your name is PoC Robot, your favorite color is red and your favorite number is 5\n",
      "Robot\n",
      "PoC\n"
     ]
    }
   ],
   "source": [
    "class MyClass:\n",
    "    '''This is my first class in Python'''\n",
    "    def __init__(self, name, firstname, fav_color, fav_digit):\n",
    "        self.name = name\n",
    "        self.firstname = firstname\n",
    "        self.setFavColor(fav_color)\n",
    "        self.setFavDigit(fav_digit)\n",
    "        \n",
    "    def __str__(self):\n",
    "        return f'Your name is {self.firstname} {self.name}, your favorite color is {self.getFavColor()} and your favorite number is {self.getFavDigit()}'\n",
    "        \n",
    "    def setFavColor(self, fav_color):\n",
    "        color = [\"red\", \"blue\", \"purple\", \"green\", \"yellow\", \"orange\", \"white\", \"black\", \"pink\", \"brown\"]\n",
    "        if fav_color in color:\n",
    "            self.__fav_color = fav_color\n",
    "        else:\n",
    "            self.__fav_color = None\n",
    "        \n",
    "    def setFavDigit(self, fav_digit):\n",
    "        if isinstance(fav_digit, int) and -1 < fav_digit < 10:\n",
    "            self.__fav_digit = fav_digit\n",
    "        else:\n",
    "            self.__fav_digit = None\n",
    "        \n",
    "    def getFavDigit(self):\n",
    "        return self.__fav_digit    \n",
    "     \n",
    "    def getFavColor(self):\n",
    "        return self.__fav_color    \n",
    "    \n",
    "robot = MyClass(\"Robot\", \"PoC\", \"red\", 5)\n",
    "print(robot)\n",
    "print(robot.name)\n",
    "print(robot.firstname)"
   ]
  },
  {
   "cell_type": "markdown",
   "id": "239c7946",
   "metadata": {},
   "source": [
    "**Exercice :**\\\n",
    "Create a ```Calculator``` class.\n",
    "\n",
    "It will take as initialization parameter a ```name``` value.\\\n",
    "it will have the methods ```add```, ```sub```, ```mul```, ```div```, ```modulo``` which will take two parameters ```x``` and ```y``` and will return the result of the operation corresponding to the name of each method between x and y.\\\n",
    "Create a method ```__str__``` that will return ```Hello my name is {name}.```"
   ]
  },
  {
   "cell_type": "code",
   "execution_count": 123,
   "id": "2b989fb4",
   "metadata": {},
   "outputs": [
    {
     "name": "stdout",
     "output_type": "stream",
     "text": [
      "Hello my name is PoC\n",
      "Hello my name is PoC\n",
      "3\n",
      "2\n",
      "-1\n",
      "0.5\n",
      "1\n"
     ]
    }
   ],
   "source": [
    "# code here\n",
    "class Calculator:\n",
    "    \n",
    "    def __init__(self, name):\n",
    "        self.name = name\n",
    "        \n",
    "    def __str__(self):\n",
    "        return f'Hello my name is {self.name}'\n",
    "    \n",
    "    def add(self, x, y):\n",
    "        return x + y\n",
    "    \n",
    "    def mul(self, x, y):\n",
    "        return x * y\n",
    "    \n",
    "    def sub(self, x, y):\n",
    "        return x - y\n",
    "    \n",
    "    def div(self, x, y):\n",
    "        return x / y\n",
    "    \n",
    "    def modulo(self, x, y):\n",
    "        return x % y\n",
    "    \n",
    "my_calc = Calculator(\"PoC\")\n",
    "print(my_calc)\n",
    "print(my_calc.__str__())\n",
    "print(my_calc.add(1, 2))\n",
    "print(my_calc.mul(1, 2))\n",
    "print(my_calc.sub(1, 2))\n",
    "print(my_calc.div(1, 2))\n",
    "print(my_calc.modulo(1, 2))"
   ]
  },
  {
   "cell_type": "markdown",
   "id": "29c0f7e9",
   "metadata": {},
   "source": [
    "**Expected result :**\\\n",
    "Hello my name is PoC.\\\n",
    "3\\\n",
    "2\\\n",
    "-1\\\n",
    "0.5\\\n",
    "1"
   ]
  },
  {
   "cell_type": "markdown",
   "id": "150e7698",
   "metadata": {},
   "source": [
    "\n",
    "**Exercice:**\\\n",
    "Define a class ```Neuron```. This class takes as a parameter a number representing the maximum size of information that this neuron can process.\n",
    "\n",
    "Create an isEven() method in the Neuron class that takes as parameter a list of numbers.\\\n",
    "If the list of numbers exceeds the maximum size of the information that the neuron can process, you must display ```List too big.```,\\\n",
    "otherwise you must go through the whole list and display \"Even\" if the number is even otherwise \"Odd\"."
   ]
  },
  {
   "cell_type": "code",
   "execution_count": 141,
   "id": "a891888c",
   "metadata": {},
   "outputs": [
    {
     "name": "stdout",
     "output_type": "stream",
     "text": [
      "List too big.\n",
      "\n",
      "Odd\n",
      "Odd\n",
      "Even\n",
      "Odd\n",
      "Even\n"
     ]
    }
   ],
   "source": [
    "# code here\\\n",
    "class Neuron:\n",
    "    \n",
    "    def __init__(self, maxsize):\n",
    "        self.maxsize = maxsize\n",
    "    \n",
    "    def isEven(self, list1):\n",
    "        if (len(list1) > self.maxsize):\n",
    "            print(\"List too big.\")\n",
    "            return\n",
    "        else:\n",
    "            for i in list1:\n",
    "                if ((i % 2) != 0):\n",
    "                    print(\"Odd\")\n",
    "                else:\n",
    "                    print(\"Even\")\n",
    "        return\n",
    "\n",
    "neuron1 = Neuron(4)\n",
    "neuron2 = Neuron(5)\n",
    "neuron1.isEven([3, 5, 0, 5, 8])\n",
    "print()\n",
    "neuron2.isEven([3, 5, 0, 5, 8])"
   ]
  },
  {
   "cell_type": "markdown",
   "id": "316d4f27",
   "metadata": {},
   "source": [
    "**Expected result :**\\\n",
    "Liste too big.\n",
    "\n",
    "Odd\\\n",
    "Odd\\\n",
    "Even\\\n",
    "Odd\\\n",
    "Even"
   ]
  },
  {
   "cell_type": "markdown",
   "id": "f8350f91",
   "metadata": {},
   "source": [
    "Well done, you have just completed the first class of this week.\\\n",
    "You have now mastered the basics of Python, this will be useful for the rest, good luck !"
   ]
  }
 ],
 "metadata": {
  "interpreter": {
   "hash": "916dbcbb3f70747c44a77c7bcd40155683ae19c65e1c03b4aa3499c5328201f1"
  },
  "kernelspec": {
   "display_name": "Python 3",
   "language": "python",
   "name": "python3"
  },
  "language_info": {
   "codemirror_mode": {
    "name": "ipython",
    "version": 3
   },
   "file_extension": ".py",
   "mimetype": "text/x-python",
   "name": "python",
   "nbconvert_exporter": "python",
   "pygments_lexer": "ipython3",
   "version": "3.8.10"
  }
 },
 "nbformat": 4,
 "nbformat_minor": 5
}
